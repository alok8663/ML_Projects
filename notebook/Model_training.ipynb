{
 "cells": [
  {
   "cell_type": "markdown",
   "metadata": {},
   "source": [
    "###  Importing Data and Required Packages"
   ]
  },
  {
   "cell_type": "code",
   "execution_count": 74,
   "metadata": {},
   "outputs": [],
   "source": [
    "# Importing Libraries\n",
    "import numpy as np\n",
    "import pandas as pd\n",
    "import matplotlib.pyplot as plt \n",
    "import seaborn as sns\n",
    "import tensorflow as tf\n",
    "\n",
    "# Modelling\n",
    "from sklearn.metrics import (\n",
    "    accuracy_score,\n",
    "    precision_score,\n",
    "    recall_score,\n",
    "    confusion_matrix\n",
    ")\n",
    "from tensorflow.keras.models import Sequential\n",
    "from tensorflow.keras.layers import Dense\n",
    "from tensorflow.keras.utils import to_categorical\n",
    "import warnings"
   ]
  },
  {
   "cell_type": "markdown",
   "metadata": {},
   "source": [
    "### Import the CSV Data as Pandas DataFrame"
   ]
  },
  {
   "cell_type": "code",
   "execution_count": 75,
   "metadata": {},
   "outputs": [],
   "source": [
    "df = pd.read_csv('data\\Churn_Modelling.csv')"
   ]
  },
  {
   "cell_type": "markdown",
   "metadata": {},
   "source": [
    "### Show Top 5 Records"
   ]
  },
  {
   "cell_type": "code",
   "execution_count": 76,
   "metadata": {},
   "outputs": [
    {
     "data": {
      "text/html": [
       "<div>\n",
       "<style scoped>\n",
       "    .dataframe tbody tr th:only-of-type {\n",
       "        vertical-align: middle;\n",
       "    }\n",
       "\n",
       "    .dataframe tbody tr th {\n",
       "        vertical-align: top;\n",
       "    }\n",
       "\n",
       "    .dataframe thead th {\n",
       "        text-align: right;\n",
       "    }\n",
       "</style>\n",
       "<table border=\"1\" class=\"dataframe\">\n",
       "  <thead>\n",
       "    <tr style=\"text-align: right;\">\n",
       "      <th></th>\n",
       "      <th>RowNumber</th>\n",
       "      <th>CustomerId</th>\n",
       "      <th>Surname</th>\n",
       "      <th>CreditScore</th>\n",
       "      <th>Geography</th>\n",
       "      <th>Gender</th>\n",
       "      <th>Age</th>\n",
       "      <th>Tenure</th>\n",
       "      <th>Balance</th>\n",
       "      <th>NumOfProducts</th>\n",
       "      <th>HasCrCard</th>\n",
       "      <th>IsActiveMember</th>\n",
       "      <th>EstimatedSalary</th>\n",
       "      <th>Exited</th>\n",
       "    </tr>\n",
       "  </thead>\n",
       "  <tbody>\n",
       "    <tr>\n",
       "      <th>0</th>\n",
       "      <td>1</td>\n",
       "      <td>15634602</td>\n",
       "      <td>Hargrave</td>\n",
       "      <td>619</td>\n",
       "      <td>France</td>\n",
       "      <td>Female</td>\n",
       "      <td>42</td>\n",
       "      <td>2</td>\n",
       "      <td>0.00</td>\n",
       "      <td>1</td>\n",
       "      <td>1</td>\n",
       "      <td>1</td>\n",
       "      <td>101348.88</td>\n",
       "      <td>1</td>\n",
       "    </tr>\n",
       "    <tr>\n",
       "      <th>1</th>\n",
       "      <td>2</td>\n",
       "      <td>15647311</td>\n",
       "      <td>Hill</td>\n",
       "      <td>608</td>\n",
       "      <td>Spain</td>\n",
       "      <td>Female</td>\n",
       "      <td>41</td>\n",
       "      <td>1</td>\n",
       "      <td>83807.86</td>\n",
       "      <td>1</td>\n",
       "      <td>0</td>\n",
       "      <td>1</td>\n",
       "      <td>112542.58</td>\n",
       "      <td>0</td>\n",
       "    </tr>\n",
       "    <tr>\n",
       "      <th>2</th>\n",
       "      <td>3</td>\n",
       "      <td>15619304</td>\n",
       "      <td>Onio</td>\n",
       "      <td>502</td>\n",
       "      <td>France</td>\n",
       "      <td>Female</td>\n",
       "      <td>42</td>\n",
       "      <td>8</td>\n",
       "      <td>159660.80</td>\n",
       "      <td>3</td>\n",
       "      <td>1</td>\n",
       "      <td>0</td>\n",
       "      <td>113931.57</td>\n",
       "      <td>1</td>\n",
       "    </tr>\n",
       "    <tr>\n",
       "      <th>3</th>\n",
       "      <td>4</td>\n",
       "      <td>15701354</td>\n",
       "      <td>Boni</td>\n",
       "      <td>699</td>\n",
       "      <td>France</td>\n",
       "      <td>Female</td>\n",
       "      <td>39</td>\n",
       "      <td>1</td>\n",
       "      <td>0.00</td>\n",
       "      <td>2</td>\n",
       "      <td>0</td>\n",
       "      <td>0</td>\n",
       "      <td>93826.63</td>\n",
       "      <td>0</td>\n",
       "    </tr>\n",
       "    <tr>\n",
       "      <th>4</th>\n",
       "      <td>5</td>\n",
       "      <td>15737888</td>\n",
       "      <td>Mitchell</td>\n",
       "      <td>850</td>\n",
       "      <td>Spain</td>\n",
       "      <td>Female</td>\n",
       "      <td>43</td>\n",
       "      <td>2</td>\n",
       "      <td>125510.82</td>\n",
       "      <td>1</td>\n",
       "      <td>1</td>\n",
       "      <td>1</td>\n",
       "      <td>79084.10</td>\n",
       "      <td>0</td>\n",
       "    </tr>\n",
       "  </tbody>\n",
       "</table>\n",
       "</div>"
      ],
      "text/plain": [
       "   RowNumber  CustomerId   Surname  CreditScore Geography  Gender  Age  \\\n",
       "0          1    15634602  Hargrave          619    France  Female   42   \n",
       "1          2    15647311      Hill          608     Spain  Female   41   \n",
       "2          3    15619304      Onio          502    France  Female   42   \n",
       "3          4    15701354      Boni          699    France  Female   39   \n",
       "4          5    15737888  Mitchell          850     Spain  Female   43   \n",
       "\n",
       "   Tenure    Balance  NumOfProducts  HasCrCard  IsActiveMember  \\\n",
       "0       2       0.00              1          1               1   \n",
       "1       1   83807.86              1          0               1   \n",
       "2       8  159660.80              3          1               0   \n",
       "3       1       0.00              2          0               0   \n",
       "4       2  125510.82              1          1               1   \n",
       "\n",
       "   EstimatedSalary  Exited  \n",
       "0        101348.88       1  \n",
       "1        112542.58       0  \n",
       "2        113931.57       1  \n",
       "3         93826.63       0  \n",
       "4         79084.10       0  "
      ]
     },
     "execution_count": 76,
     "metadata": {},
     "output_type": "execute_result"
    }
   ],
   "source": [
    "df.head()"
   ]
  },
  {
   "cell_type": "markdown",
   "metadata": {},
   "source": [
    "### Dropping Useless Columns"
   ]
  },
  {
   "cell_type": "code",
   "execution_count": 77,
   "metadata": {},
   "outputs": [
    {
     "data": {
      "text/html": [
       "<div>\n",
       "<style scoped>\n",
       "    .dataframe tbody tr th:only-of-type {\n",
       "        vertical-align: middle;\n",
       "    }\n",
       "\n",
       "    .dataframe tbody tr th {\n",
       "        vertical-align: top;\n",
       "    }\n",
       "\n",
       "    .dataframe thead th {\n",
       "        text-align: right;\n",
       "    }\n",
       "</style>\n",
       "<table border=\"1\" class=\"dataframe\">\n",
       "  <thead>\n",
       "    <tr style=\"text-align: right;\">\n",
       "      <th></th>\n",
       "      <th>CreditScore</th>\n",
       "      <th>Geography</th>\n",
       "      <th>Gender</th>\n",
       "      <th>Age</th>\n",
       "      <th>Tenure</th>\n",
       "      <th>Balance</th>\n",
       "      <th>NumOfProducts</th>\n",
       "      <th>HasCrCard</th>\n",
       "      <th>IsActiveMember</th>\n",
       "      <th>EstimatedSalary</th>\n",
       "      <th>Exited</th>\n",
       "    </tr>\n",
       "  </thead>\n",
       "  <tbody>\n",
       "    <tr>\n",
       "      <th>0</th>\n",
       "      <td>619</td>\n",
       "      <td>France</td>\n",
       "      <td>Female</td>\n",
       "      <td>42</td>\n",
       "      <td>2</td>\n",
       "      <td>0.00</td>\n",
       "      <td>1</td>\n",
       "      <td>1</td>\n",
       "      <td>1</td>\n",
       "      <td>101348.88</td>\n",
       "      <td>1</td>\n",
       "    </tr>\n",
       "    <tr>\n",
       "      <th>1</th>\n",
       "      <td>608</td>\n",
       "      <td>Spain</td>\n",
       "      <td>Female</td>\n",
       "      <td>41</td>\n",
       "      <td>1</td>\n",
       "      <td>83807.86</td>\n",
       "      <td>1</td>\n",
       "      <td>0</td>\n",
       "      <td>1</td>\n",
       "      <td>112542.58</td>\n",
       "      <td>0</td>\n",
       "    </tr>\n",
       "    <tr>\n",
       "      <th>2</th>\n",
       "      <td>502</td>\n",
       "      <td>France</td>\n",
       "      <td>Female</td>\n",
       "      <td>42</td>\n",
       "      <td>8</td>\n",
       "      <td>159660.80</td>\n",
       "      <td>3</td>\n",
       "      <td>1</td>\n",
       "      <td>0</td>\n",
       "      <td>113931.57</td>\n",
       "      <td>1</td>\n",
       "    </tr>\n",
       "    <tr>\n",
       "      <th>3</th>\n",
       "      <td>699</td>\n",
       "      <td>France</td>\n",
       "      <td>Female</td>\n",
       "      <td>39</td>\n",
       "      <td>1</td>\n",
       "      <td>0.00</td>\n",
       "      <td>2</td>\n",
       "      <td>0</td>\n",
       "      <td>0</td>\n",
       "      <td>93826.63</td>\n",
       "      <td>0</td>\n",
       "    </tr>\n",
       "    <tr>\n",
       "      <th>4</th>\n",
       "      <td>850</td>\n",
       "      <td>Spain</td>\n",
       "      <td>Female</td>\n",
       "      <td>43</td>\n",
       "      <td>2</td>\n",
       "      <td>125510.82</td>\n",
       "      <td>1</td>\n",
       "      <td>1</td>\n",
       "      <td>1</td>\n",
       "      <td>79084.10</td>\n",
       "      <td>0</td>\n",
       "    </tr>\n",
       "  </tbody>\n",
       "</table>\n",
       "</div>"
      ],
      "text/plain": [
       "   CreditScore Geography  Gender  Age  Tenure    Balance  NumOfProducts  \\\n",
       "0          619    France  Female   42       2       0.00              1   \n",
       "1          608     Spain  Female   41       1   83807.86              1   \n",
       "2          502    France  Female   42       8  159660.80              3   \n",
       "3          699    France  Female   39       1       0.00              2   \n",
       "4          850     Spain  Female   43       2  125510.82              1   \n",
       "\n",
       "   HasCrCard  IsActiveMember  EstimatedSalary  Exited  \n",
       "0          1               1        101348.88       1  \n",
       "1          0               1        112542.58       0  \n",
       "2          1               0        113931.57       1  \n",
       "3          0               0         93826.63       0  \n",
       "4          1               1         79084.10       0  "
      ]
     },
     "execution_count": 77,
     "metadata": {},
     "output_type": "execute_result"
    }
   ],
   "source": [
    "df.drop(columns = ['RowNumber', 'CustomerId', 'Surname'], axis = 1, inplace = True)\n",
    "df.head()"
   ]
  },
  {
   "cell_type": "code",
   "execution_count": 78,
   "metadata": {},
   "outputs": [
    {
     "data": {
      "text/plain": [
       "Geography\n",
       "France     5014\n",
       "Germany    2509\n",
       "Spain      2477\n",
       "Name: count, dtype: int64"
      ]
     },
     "execution_count": 78,
     "metadata": {},
     "output_type": "execute_result"
    }
   ],
   "source": [
    "df.Geography.value_counts()"
   ]
  },
  {
   "cell_type": "markdown",
   "metadata": {},
   "source": [
    "### Preparing X and Y variables"
   ]
  },
  {
   "cell_type": "code",
   "execution_count": 79,
   "metadata": {},
   "outputs": [],
   "source": [
    "X = df.drop(columns=['Exited'],axis=1)"
   ]
  },
  {
   "cell_type": "code",
   "execution_count": 80,
   "metadata": {},
   "outputs": [
    {
     "data": {
      "text/html": [
       "<div>\n",
       "<style scoped>\n",
       "    .dataframe tbody tr th:only-of-type {\n",
       "        vertical-align: middle;\n",
       "    }\n",
       "\n",
       "    .dataframe tbody tr th {\n",
       "        vertical-align: top;\n",
       "    }\n",
       "\n",
       "    .dataframe thead th {\n",
       "        text-align: right;\n",
       "    }\n",
       "</style>\n",
       "<table border=\"1\" class=\"dataframe\">\n",
       "  <thead>\n",
       "    <tr style=\"text-align: right;\">\n",
       "      <th></th>\n",
       "      <th>CreditScore</th>\n",
       "      <th>Geography</th>\n",
       "      <th>Gender</th>\n",
       "      <th>Age</th>\n",
       "      <th>Tenure</th>\n",
       "      <th>Balance</th>\n",
       "      <th>NumOfProducts</th>\n",
       "      <th>HasCrCard</th>\n",
       "      <th>IsActiveMember</th>\n",
       "      <th>EstimatedSalary</th>\n",
       "    </tr>\n",
       "  </thead>\n",
       "  <tbody>\n",
       "    <tr>\n",
       "      <th>0</th>\n",
       "      <td>619</td>\n",
       "      <td>France</td>\n",
       "      <td>Female</td>\n",
       "      <td>42</td>\n",
       "      <td>2</td>\n",
       "      <td>0.00</td>\n",
       "      <td>1</td>\n",
       "      <td>1</td>\n",
       "      <td>1</td>\n",
       "      <td>101348.88</td>\n",
       "    </tr>\n",
       "    <tr>\n",
       "      <th>1</th>\n",
       "      <td>608</td>\n",
       "      <td>Spain</td>\n",
       "      <td>Female</td>\n",
       "      <td>41</td>\n",
       "      <td>1</td>\n",
       "      <td>83807.86</td>\n",
       "      <td>1</td>\n",
       "      <td>0</td>\n",
       "      <td>1</td>\n",
       "      <td>112542.58</td>\n",
       "    </tr>\n",
       "    <tr>\n",
       "      <th>2</th>\n",
       "      <td>502</td>\n",
       "      <td>France</td>\n",
       "      <td>Female</td>\n",
       "      <td>42</td>\n",
       "      <td>8</td>\n",
       "      <td>159660.80</td>\n",
       "      <td>3</td>\n",
       "      <td>1</td>\n",
       "      <td>0</td>\n",
       "      <td>113931.57</td>\n",
       "    </tr>\n",
       "    <tr>\n",
       "      <th>3</th>\n",
       "      <td>699</td>\n",
       "      <td>France</td>\n",
       "      <td>Female</td>\n",
       "      <td>39</td>\n",
       "      <td>1</td>\n",
       "      <td>0.00</td>\n",
       "      <td>2</td>\n",
       "      <td>0</td>\n",
       "      <td>0</td>\n",
       "      <td>93826.63</td>\n",
       "    </tr>\n",
       "    <tr>\n",
       "      <th>4</th>\n",
       "      <td>850</td>\n",
       "      <td>Spain</td>\n",
       "      <td>Female</td>\n",
       "      <td>43</td>\n",
       "      <td>2</td>\n",
       "      <td>125510.82</td>\n",
       "      <td>1</td>\n",
       "      <td>1</td>\n",
       "      <td>1</td>\n",
       "      <td>79084.10</td>\n",
       "    </tr>\n",
       "  </tbody>\n",
       "</table>\n",
       "</div>"
      ],
      "text/plain": [
       "   CreditScore Geography  Gender  Age  Tenure    Balance  NumOfProducts  \\\n",
       "0          619    France  Female   42       2       0.00              1   \n",
       "1          608     Spain  Female   41       1   83807.86              1   \n",
       "2          502    France  Female   42       8  159660.80              3   \n",
       "3          699    France  Female   39       1       0.00              2   \n",
       "4          850     Spain  Female   43       2  125510.82              1   \n",
       "\n",
       "   HasCrCard  IsActiveMember  EstimatedSalary  \n",
       "0          1               1        101348.88  \n",
       "1          0               1        112542.58  \n",
       "2          1               0        113931.57  \n",
       "3          0               0         93826.63  \n",
       "4          1               1         79084.10  "
      ]
     },
     "execution_count": 80,
     "metadata": {},
     "output_type": "execute_result"
    }
   ],
   "source": [
    "X.head()"
   ]
  },
  {
   "cell_type": "code",
   "execution_count": 81,
   "metadata": {},
   "outputs": [
    {
     "name": "stdout",
     "output_type": "stream",
     "text": [
      "Categories in 'Geography' variable:      ['France' 'Spain' 'Germany']\n",
      "Categories in 'Gender' variable:   ['Female' 'Male']\n"
     ]
    }
   ],
   "source": [
    "print(\"Categories in 'Geography' variable:     \",end=\" \" )\n",
    "print(df['Geography'].unique())\n",
    "\n",
    "print(\"Categories in 'Gender' variable:  \",end=\" \")\n",
    "print(df['Gender'].unique())"
   ]
  },
  {
   "cell_type": "code",
   "execution_count": 82,
   "metadata": {},
   "outputs": [],
   "source": [
    "y = df['Exited']"
   ]
  },
  {
   "cell_type": "code",
   "execution_count": 83,
   "metadata": {},
   "outputs": [],
   "source": [
    "# Create Column Transformer with 3 types of transformers\n",
    "num_features = X.select_dtypes(exclude=\"object\").columns\n",
    "cat_features = X.select_dtypes(include=\"object\").columns\n",
    "\n",
    "from sklearn.preprocessing import OneHotEncoder, StandardScaler\n",
    "from sklearn.compose import ColumnTransformer\n",
    "\n",
    "numeric_transformer = StandardScaler()\n",
    "oh_transformer = OneHotEncoder()\n",
    "\n",
    "preprocessor = ColumnTransformer(\n",
    "    [\n",
    "        (\"OneHotEncoder\", oh_transformer, cat_features),\n",
    "         (\"StandardScaler\", numeric_transformer, num_features),        \n",
    "    ]\n",
    ")"
   ]
  },
  {
   "cell_type": "code",
   "execution_count": 84,
   "metadata": {},
   "outputs": [],
   "source": [
    "X = preprocessor.fit_transform(X)"
   ]
  },
  {
   "cell_type": "code",
   "execution_count": 85,
   "metadata": {},
   "outputs": [
    {
     "data": {
      "text/plain": [
       "(10000, 13)"
      ]
     },
     "execution_count": 85,
     "metadata": {},
     "output_type": "execute_result"
    }
   ],
   "source": [
    "X.shape"
   ]
  },
  {
   "cell_type": "markdown",
   "metadata": {},
   "source": [
    "### Separate dataset into train and test set"
   ]
  },
  {
   "cell_type": "code",
   "execution_count": 86,
   "metadata": {},
   "outputs": [
    {
     "data": {
      "text/plain": [
       "((8000, 13), (2000, 13))"
      ]
     },
     "execution_count": 86,
     "metadata": {},
     "output_type": "execute_result"
    }
   ],
   "source": [
    "from sklearn.model_selection import train_test_split\n",
    "X_train, X_test, y_train, y_test = train_test_split(X,y,test_size=0.2,random_state=42)\n",
    "X_train.shape, X_test.shape"
   ]
  },
  {
   "cell_type": "markdown",
   "metadata": {},
   "source": [
    "### Creating an Evaluate Function to give all metrics after Model Training"
   ]
  },
  {
   "cell_type": "code",
   "execution_count": 87,
   "metadata": {},
   "outputs": [],
   "source": [
    "def evaluate_model(true, predicted):\n",
    "    accuracy = accuracy_score(true, predicted)\n",
    "    precision = precision_score(true, predicted)\n",
    "    recall = recall_score(true, predicted)\n",
    "    cm = confusion_matrix(true, predicted)\n",
    "\n",
    "    return accuracy, precision, recall, cm"
   ]
  },
  {
   "cell_type": "code",
   "execution_count": 88,
   "metadata": {},
   "outputs": [
    {
     "name": "stdout",
     "output_type": "stream",
     "text": [
      "Epoch 1/50\n",
      "200/200 [==============================] - 10s 25ms/step - loss: 0.4666 - accuracy: 0.7947 - val_loss: 0.4004 - val_accuracy: 0.8413\n",
      "Epoch 2/50\n",
      "200/200 [==============================] - 2s 11ms/step - loss: 0.3858 - accuracy: 0.8447 - val_loss: 0.3612 - val_accuracy: 0.8494\n",
      "Epoch 3/50\n",
      "200/200 [==============================] - 2s 11ms/step - loss: 0.3540 - accuracy: 0.8577 - val_loss: 0.3487 - val_accuracy: 0.8544\n",
      "Epoch 4/50\n",
      "200/200 [==============================] - 2s 8ms/step - loss: 0.3445 - accuracy: 0.8595 - val_loss: 0.3452 - val_accuracy: 0.8544\n",
      "Epoch 5/50\n",
      "200/200 [==============================] - 2s 9ms/step - loss: 0.3393 - accuracy: 0.8611 - val_loss: 0.3431 - val_accuracy: 0.8612\n",
      "Epoch 6/50\n",
      "200/200 [==============================] - 1s 7ms/step - loss: 0.3359 - accuracy: 0.8630 - val_loss: 0.3420 - val_accuracy: 0.8594\n",
      "Epoch 7/50\n",
      "200/200 [==============================] - 2s 8ms/step - loss: 0.3340 - accuracy: 0.8636 - val_loss: 0.3411 - val_accuracy: 0.8550\n",
      "Epoch 8/50\n",
      "200/200 [==============================] - 2s 8ms/step - loss: 0.3307 - accuracy: 0.8609 - val_loss: 0.3381 - val_accuracy: 0.8594\n",
      "Epoch 9/50\n",
      "200/200 [==============================] - 2s 10ms/step - loss: 0.3292 - accuracy: 0.8630 - val_loss: 0.3417 - val_accuracy: 0.8475\n",
      "Epoch 10/50\n",
      "200/200 [==============================] - 2s 8ms/step - loss: 0.3265 - accuracy: 0.8630 - val_loss: 0.3375 - val_accuracy: 0.8494\n",
      "Epoch 11/50\n",
      "200/200 [==============================] - 3s 15ms/step - loss: 0.3240 - accuracy: 0.8642 - val_loss: 0.3367 - val_accuracy: 0.8581\n",
      "Epoch 12/50\n",
      "200/200 [==============================] - 3s 16ms/step - loss: 0.3236 - accuracy: 0.8661 - val_loss: 0.3389 - val_accuracy: 0.8569\n",
      "Epoch 13/50\n",
      "200/200 [==============================] - 3s 16ms/step - loss: 0.3204 - accuracy: 0.8658 - val_loss: 0.3348 - val_accuracy: 0.8544\n",
      "Epoch 14/50\n",
      "200/200 [==============================] - 2s 11ms/step - loss: 0.3182 - accuracy: 0.8658 - val_loss: 0.3390 - val_accuracy: 0.8581\n",
      "Epoch 15/50\n",
      "200/200 [==============================] - 2s 12ms/step - loss: 0.3163 - accuracy: 0.8683 - val_loss: 0.3407 - val_accuracy: 0.8537\n",
      "Epoch 16/50\n",
      "200/200 [==============================] - 2s 11ms/step - loss: 0.3153 - accuracy: 0.8700 - val_loss: 0.3391 - val_accuracy: 0.8562\n",
      "Epoch 17/50\n",
      "200/200 [==============================] - 2s 8ms/step - loss: 0.3146 - accuracy: 0.8702 - val_loss: 0.3384 - val_accuracy: 0.8537\n",
      "Epoch 18/50\n",
      "200/200 [==============================] - 2s 9ms/step - loss: 0.3135 - accuracy: 0.8708 - val_loss: 0.3419 - val_accuracy: 0.8575\n",
      "Epoch 19/50\n",
      "200/200 [==============================] - 2s 12ms/step - loss: 0.3110 - accuracy: 0.8703 - val_loss: 0.3390 - val_accuracy: 0.8556\n",
      "Epoch 20/50\n",
      "200/200 [==============================] - 2s 10ms/step - loss: 0.3083 - accuracy: 0.8716 - val_loss: 0.3464 - val_accuracy: 0.8531\n",
      "Epoch 21/50\n",
      "200/200 [==============================] - 2s 8ms/step - loss: 0.3082 - accuracy: 0.8709 - val_loss: 0.3455 - val_accuracy: 0.8519\n",
      "Epoch 22/50\n",
      "200/200 [==============================] - 1s 7ms/step - loss: 0.3071 - accuracy: 0.8730 - val_loss: 0.3480 - val_accuracy: 0.8531\n",
      "Epoch 23/50\n",
      "200/200 [==============================] - 2s 10ms/step - loss: 0.3051 - accuracy: 0.8727 - val_loss: 0.3454 - val_accuracy: 0.8587\n",
      "Epoch 24/50\n",
      "200/200 [==============================] - 2s 12ms/step - loss: 0.3042 - accuracy: 0.8717 - val_loss: 0.3495 - val_accuracy: 0.8512\n",
      "Epoch 25/50\n",
      "200/200 [==============================] - 2s 8ms/step - loss: 0.3044 - accuracy: 0.8739 - val_loss: 0.3475 - val_accuracy: 0.8550\n",
      "Epoch 26/50\n",
      "200/200 [==============================] - 1s 7ms/step - loss: 0.3016 - accuracy: 0.8744 - val_loss: 0.3487 - val_accuracy: 0.8525\n",
      "Epoch 27/50\n",
      "200/200 [==============================] - 1s 7ms/step - loss: 0.2997 - accuracy: 0.8756 - val_loss: 0.3487 - val_accuracy: 0.8525\n",
      "Epoch 28/50\n",
      "200/200 [==============================] - 2s 10ms/step - loss: 0.2992 - accuracy: 0.8734 - val_loss: 0.3461 - val_accuracy: 0.8537\n",
      "Epoch 29/50\n",
      "200/200 [==============================] - 2s 9ms/step - loss: 0.2976 - accuracy: 0.8769 - val_loss: 0.3569 - val_accuracy: 0.8512\n",
      "Epoch 30/50\n",
      "200/200 [==============================] - 2s 8ms/step - loss: 0.2961 - accuracy: 0.8758 - val_loss: 0.3492 - val_accuracy: 0.8537\n",
      "Epoch 31/50\n",
      "200/200 [==============================] - 1s 7ms/step - loss: 0.2947 - accuracy: 0.8750 - val_loss: 0.3519 - val_accuracy: 0.8562\n",
      "Epoch 32/50\n",
      "200/200 [==============================] - 2s 10ms/step - loss: 0.2934 - accuracy: 0.8764 - val_loss: 0.3607 - val_accuracy: 0.8506\n",
      "Epoch 33/50\n",
      "200/200 [==============================] - 2s 9ms/step - loss: 0.2927 - accuracy: 0.8769 - val_loss: 0.3529 - val_accuracy: 0.8512\n",
      "Epoch 34/50\n",
      "200/200 [==============================] - 3s 17ms/step - loss: 0.2915 - accuracy: 0.8803 - val_loss: 0.3559 - val_accuracy: 0.8500\n",
      "Epoch 35/50\n",
      "200/200 [==============================] - 4s 20ms/step - loss: 0.2898 - accuracy: 0.8808 - val_loss: 0.3580 - val_accuracy: 0.8531\n",
      "Epoch 36/50\n",
      "200/200 [==============================] - 7s 34ms/step - loss: 0.2875 - accuracy: 0.8803 - val_loss: 0.3571 - val_accuracy: 0.8525\n",
      "Epoch 37/50\n",
      "200/200 [==============================] - 4s 18ms/step - loss: 0.2872 - accuracy: 0.8786 - val_loss: 0.3544 - val_accuracy: 0.8544\n",
      "Epoch 38/50\n",
      "200/200 [==============================] - 5s 26ms/step - loss: 0.2851 - accuracy: 0.8803 - val_loss: 0.3596 - val_accuracy: 0.8469\n",
      "Epoch 39/50\n",
      "200/200 [==============================] - 6s 28ms/step - loss: 0.2861 - accuracy: 0.8784 - val_loss: 0.3638 - val_accuracy: 0.8544\n",
      "Epoch 40/50\n",
      "200/200 [==============================] - 5s 24ms/step - loss: 0.2821 - accuracy: 0.8811 - val_loss: 0.3605 - val_accuracy: 0.8450\n",
      "Epoch 41/50\n",
      "200/200 [==============================] - 2s 10ms/step - loss: 0.2830 - accuracy: 0.8806 - val_loss: 0.3635 - val_accuracy: 0.8537\n",
      "Epoch 42/50\n",
      "200/200 [==============================] - 2s 10ms/step - loss: 0.2821 - accuracy: 0.8823 - val_loss: 0.3601 - val_accuracy: 0.8512\n",
      "Epoch 43/50\n",
      "200/200 [==============================] - 3s 15ms/step - loss: 0.2793 - accuracy: 0.8825 - val_loss: 0.3627 - val_accuracy: 0.8475\n",
      "Epoch 44/50\n",
      "200/200 [==============================] - 3s 16ms/step - loss: 0.2789 - accuracy: 0.8841 - val_loss: 0.3589 - val_accuracy: 0.8512\n",
      "Epoch 45/50\n",
      "200/200 [==============================] - 6s 29ms/step - loss: 0.2776 - accuracy: 0.8803 - val_loss: 0.3660 - val_accuracy: 0.8494\n",
      "Epoch 46/50\n",
      "200/200 [==============================] - 4s 21ms/step - loss: 0.2780 - accuracy: 0.8827 - val_loss: 0.3721 - val_accuracy: 0.8575\n",
      "Epoch 47/50\n",
      "200/200 [==============================] - 6s 30ms/step - loss: 0.2751 - accuracy: 0.8817 - val_loss: 0.3737 - val_accuracy: 0.8506\n",
      "Epoch 48/50\n",
      "200/200 [==============================] - 5s 25ms/step - loss: 0.2745 - accuracy: 0.8838 - val_loss: 0.3776 - val_accuracy: 0.8519\n",
      "Epoch 49/50\n",
      "200/200 [==============================] - 3s 17ms/step - loss: 0.2729 - accuracy: 0.8859 - val_loss: 0.3693 - val_accuracy: 0.8494\n",
      "Epoch 50/50\n",
      "200/200 [==============================] - 3s 17ms/step - loss: 0.2729 - accuracy: 0.8850 - val_loss: 0.3810 - val_accuracy: 0.8550\n"
     ]
    }
   ],
   "source": [
    "# Build the ANN model\n",
    "def build_ann(input_dim):\n",
    "    model = Sequential([\n",
    "        Dense(64, activation='relu', input_dim=input_dim),\n",
    "        Dense(32, activation='relu'),\n",
    "        Dense(1, activation='sigmoid')  # Sigmoid activation for binary classification\n",
    "    ])\n",
    "    model.compile(optimizer='adam', loss='binary_crossentropy', metrics=['accuracy'])\n",
    "    return model\n",
    "\n",
    "# Preprocess labels if necessary\n",
    "# Assuming `y_train` and `y_test` are binary labels (0 or 1)\n",
    "\n",
    "# Initialize and train the ANN model\n",
    "input_dim = X_train.shape[1]\n",
    "ann_model = build_ann(input_dim)\n",
    "\n",
    "history = ann_model.fit(X_train, y_train, validation_split=0.2, epochs=50, batch_size=32, verbose=1)"
   ]
  },
  {
   "cell_type": "code",
   "execution_count": 89,
   "metadata": {},
   "outputs": [
    {
     "name": "stdout",
     "output_type": "stream",
     "text": [
      "250/250 [==============================] - 3s 10ms/step\n",
      "63/63 [==============================] - 1s 8ms/step\n",
      "ANN Model Performance:\n",
      "\n",
      "Training Set:\n",
      "- Accuracy: 0.8798\n",
      "- Precision: 0.8552\n",
      "- Recall: 0.4994\n",
      "- Confusion Matrix:\n",
      "[[6217  139]\n",
      " [ 823  821]]\n",
      "\n",
      "Test Set:\n",
      "- Accuracy: 0.8550\n",
      "- Precision: 0.7229\n",
      "- Recall: 0.4249\n",
      "- Confusion Matrix:\n",
      "[[1543   64]\n",
      " [ 226  167]]\n"
     ]
    }
   ],
   "source": [
    "# Make predictions\n",
    "y_train_pred_probs = ann_model.predict(X_train)\n",
    "y_test_pred_probs = ann_model.predict(X_test)\n",
    "\n",
    "# Convert probabilities to binary predictions\n",
    "y_train_pred = (y_train_pred_probs > 0.5).astype(int)\n",
    "y_test_pred = (y_test_pred_probs > 0.5).astype(int)\n",
    "\n",
    "# Evaluate Train and Test datasets\n",
    "train_accuracy, train_precision, train_recall, train_cm = evaluate_model(y_train, y_train_pred)\n",
    "test_accuracy, test_precision, test_recall, test_cm = evaluate_model(y_test, y_test_pred)\n",
    "\n",
    "# Display results\n",
    "print(\"ANN Model Performance:\")\n",
    "print(\"\\nTraining Set:\")\n",
    "print(f\"- Accuracy: {train_accuracy:.4f}\")\n",
    "print(f\"- Precision: {train_precision:.4f}\")\n",
    "print(f\"- Recall: {train_recall:.4f}\")\n",
    "print(f\"- Confusion Matrix:\\n{train_cm}\")\n",
    "\n",
    "print(\"\\nTest Set:\")\n",
    "print(f\"- Accuracy: {test_accuracy:.4f}\")\n",
    "print(f\"- Precision: {test_precision:.4f}\")\n",
    "print(f\"- Recall: {test_recall:.4f}\")\n",
    "print(f\"- Confusion Matrix:\\n{test_cm}\")\n"
   ]
  },
  {
   "cell_type": "code",
   "execution_count": 90,
   "metadata": {},
   "outputs": [
    {
     "data": {
      "image/png": "[encoded data removed]",
      "text/plain": [
       "<Figure size 1200x600 with 1 Axes>"
      ]
     },
     "metadata": {},
     "output_type": "display_data"
    }
   ],
   "source": [
    "# Plot training and validation accuracy\n",
    "plt.figure(figsize=(12, 6))\n",
    "plt.plot(history.history['accuracy'], label='Training Accuracy')\n",
    "plt.plot(history.history['val_accuracy'], label='Validation Accuracy')\n",
    "plt.title('Accuracy Curve')\n",
    "plt.xlabel('Epochs')\n",
    "plt.ylabel('Accuracy')\n",
    "plt.legend()\n",
    "plt.grid()\n",
    "plt.show()"
   ]
  },
  {
   "cell_type": "code",
   "execution_count": 91,
   "metadata": {},
   "outputs": [
    {
     "data": {
      "image/png": "[encoded data removed]",
      "text/plain": [
       "<Figure size 800x600 with 2 Axes>"
      ]
     },
     "metadata": {},
     "output_type": "display_data"
    }
   ],
   "source": [
    "# Plotting confusion matrix for test data\n",
    "cm = confusion_matrix(y_test, y_test_pred)\n",
    "plt.figure(figsize=(8, 6))\n",
    "sns.heatmap(cm, annot=True, fmt='d', cmap='Blues', xticklabels=['Not Churned', 'Churned'], yticklabels=['Not Churned', 'Churned'])\n",
    "plt.title('Confusion Matrix')\n",
    "plt.xlabel('Predicted')\n",
    "plt.ylabel('Actual')\n",
    "plt.show()"
   ]
  }
 ],
 "metadata": {
  "kernelspec": {
   "display_name": "venv",
   "language": "python",
   "name": "python3"
  },
  "language_info": {
   "codemirror_mode": {
    "name": "ipython",
    "version": 3
   },
   "file_extension": ".py",
   "mimetype": "text/x-python",
   "name": "python",
   "nbconvert_exporter": "python",
   "pygments_lexer": "ipython3",
   "version": "3.8.0"
  }
 },
 "nbformat": 4,
 "nbformat_minor": 2
}
